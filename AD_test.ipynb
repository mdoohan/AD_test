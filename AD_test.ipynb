{
 "cells": [
  {
   "cell_type": "code",
   "execution_count": 1,
   "id": "118fe049-0d0e-40fb-b06a-81a885cc8a5b",
   "metadata": {},
   "outputs": [
    {
     "name": "stderr",
     "output_type": "stream",
     "text": [
      "\u001b[32m\u001b[1m  Activating\u001b[22m\u001b[39m project at `~/.julia/environments/v1.8/AD_test`\n"
     ]
    }
   ],
   "source": [
    "using Pkg\n",
    "Pkg.activate(\"/home/mdoohan/.julia/environments/v1.8/AD_test\")"
   ]
  },
  {
   "cell_type": "code",
   "execution_count": 2,
   "id": "afbd8463-df35-4cd3-83ab-bede8ba23e9a",
   "metadata": {},
   "outputs": [
    {
     "name": "stdout",
     "output_type": "stream",
     "text": [
      "CUDA toolkit 11.4, artifact installation\n",
      "NVIDIA driver 535.154.5, for CUDA 12.2\n",
      "CUDA driver 12.2\n",
      "\n",
      "Libraries: \n",
      "- CUBLAS: 11.6.5\n",
      "- CURAND: 10.2.5\n",
      "- CUFFT: 10.5.2\n",
      "- CUSOLVER: 11.2.0\n",
      "- CUSPARSE: 11.6.0\n",
      "- CUPTI: 14.0.0\n",
      "- NVML: 12.0.0+535.154.5\n",
      "- CUDNN: 8.30.2 (for CUDA 11.5.0)\n",
      "- CUTENSOR: 1.4.0 (for CUDA 11.5.0)\n",
      "\n",
      "Toolchain:\n",
      "- Julia: 1.8.5\n",
      "- LLVM: 13.0.1\n",
      "- PTX ISA support: 3.2, 4.0, 4.1, 4.2, 4.3, 5.0, 6.0, 6.1, 6.3, 6.4, 6.5, 7.0, 7.1, 7.2\n",
      "- Device capability support: sm_35, sm_37, sm_50, sm_52, sm_53, sm_60, sm_61, sm_62, sm_70, sm_72, sm_75, sm_80, sm_86\n",
      "\n",
      "Environment:\n",
      "- JULIA_CUDA_VERSION: 11.4\n",
      "- JULIA_CUDA_USE_BINARYBUILDER: true\n",
      "\n",
      "4 devices:\n",
      "  0: NVIDIA A100 80GB PCIe (sm_80, 79.148 GiB / 80.000 GiB available)\n",
      "  1: NVIDIA A100 80GB PCIe (sm_80, 79.148 GiB / 80.000 GiB available)\n",
      "  2: NVIDIA A100 80GB PCIe (sm_80, 79.148 GiB / 80.000 GiB available)\n",
      "  3: NVIDIA A100 80GB PCIe (sm_80, 79.148 GiB / 80.000 GiB available)\n"
     ]
    }
   ],
   "source": [
    "ENV[\"JULIA_CUDA_VERSION\"]=\"11.4\" \n",
    "ENV[\"JULIA_CUDA_USE_BINARYBUILDER\"] = true \n",
    "using Distributed,CUDA, CMBLensing\n",
    "@everywhere using CUDA\n",
    "CUDA.versioninfo()"
   ]
  },
  {
   "cell_type": "code",
   "execution_count": 3,
   "id": "0fcae749-41e6-4eb3-bff7-a6fa5f003ddb",
   "metadata": {},
   "outputs": [
    {
     "data": {
      "text/plain": [
       "\"/home/mdoohan/.julia/packages/CMBLensing/JIBUG/src/CMBLensing.jl\""
      ]
     },
     "execution_count": 3,
     "metadata": {},
     "output_type": "execute_result"
    }
   ],
   "source": [
    "pathof(CMBLensing)"
   ]
  },
  {
   "cell_type": "code",
   "execution_count": 4,
   "id": "2740ec57-1685-4e77-ac77-246e780c1d5d",
   "metadata": {},
   "outputs": [
    {
     "name": "stdout",
     "output_type": "stream",
     "text": [
      "addprocs(length(CUDA.devices()) - 1) = [2, 3, 4]\n"
     ]
    },
    {
     "data": {
      "text/plain": [
       "true"
      ]
     },
     "execution_count": 4,
     "metadata": {},
     "output_type": "execute_result"
    }
   ],
   "source": [
    "@show addprocs(length(CUDA.devices())-1)\n",
    "CUDA.functional()"
   ]
  },
  {
   "cell_type": "code",
   "execution_count": 5,
   "id": "20209a64-3717-4f49-a7b9-6050d553f5bb",
   "metadata": {},
   "outputs": [],
   "source": [
    "@everywhere using CMBLensing, UnPack,  JLD2, Distributions, Random, MuseInference, ComponentArrays, Distributed,  LinearAlgebra, Plots, ForwardDiff, Zygote,  CUDA\n",
    "                  \n",
    "@everywhere import MuseInference:  AD, sample_x_z, logLike"
   ]
  },
  {
   "cell_type": "code",
   "execution_count": 6,
   "id": "d28bb473-d480-402e-b322-f1557cb889f7",
   "metadata": {},
   "outputs": [
    {
     "name": "stderr",
     "output_type": "stream",
     "text": [
      "\u001b[36m\u001b[1m┌ \u001b[22m\u001b[39m\u001b[36m\u001b[1mInfo: \u001b[22m\u001b[39mProcesses (4):\n",
      "\u001b[36m\u001b[1m│ \u001b[22m\u001b[39m (myid = 1, host = spartan-gpgpu107.hpc.unimelb.edu.au, device = CuDevice(0): NVIDIA A100 80GB PCIe 62a88788))\n",
      "\u001b[36m\u001b[1m│ \u001b[22m\u001b[39m (myid = 2, host = spartan-gpgpu107.hpc.unimelb.edu.au, device = CuDevice(1): NVIDIA A100 80GB PCIe 412262f3))\n",
      "\u001b[36m\u001b[1m│ \u001b[22m\u001b[39m (myid = 3, host = spartan-gpgpu107.hpc.unimelb.edu.au, device = CuDevice(2): NVIDIA A100 80GB PCIe 96c8cd89))\n",
      "\u001b[36m\u001b[1m└ \u001b[22m\u001b[39m (myid = 4, host = spartan-gpgpu107.hpc.unimelb.edu.au, device = CuDevice(3): NVIDIA A100 80GB PCIe a2eca982))\n"
     ]
    }
   ],
   "source": [
    "pool=Distributed.WorkerPool(procs()) # Should get master GPU working too\n",
    "CMBLensing.assign_GPU_workers(;use_master=true,remove_oversubscribed_workers=true)"
   ]
  },
  {
   "cell_type": "markdown",
   "id": "dd6ea441-17a1-478d-a1b3-5d9cbf5af0a7",
   "metadata": {},
   "source": [
    "## Make dataset (ds)"
   ]
  },
  {
   "cell_type": "code",
   "execution_count": 7,
   "id": "a5e9e80d-5749-4c34-9083-a6d555878e3c",
   "metadata": {},
   "outputs": [
    {
     "data": {
      "text/plain": [
       "225.0:50.0:2975.0"
      ]
     },
     "execution_count": 7,
     "metadata": {},
     "output_type": "execute_result"
    }
   ],
   "source": [
    "\n",
    " \n",
    "###### Put fg_ds on Array for cpu's\n",
    "storage = CuArray\n",
    "###### rng\n",
    "rng = MersenneTwister(0)\n",
    "################## Map/Cl parameters\n",
    "Cℓ=camb(;ℓmax=7000)\n",
    "θpix = 2.25#0.42943580147717575# 1.25 \n",
    "Nside = 256 ; pol = :I ; T = Float64 ; rotator = (0,90,0)\n",
    "nbins_ϕ = 12 ; log_edges = range(log(100),log(3000), floor(Int,nbins_ϕ+1))\n",
    "ℓedges_ϕ = T.(exp.(log_edges)) \n",
    "ℓedges_T = 200:50:3000 ; nbins_T = length(ℓedges_T)-1\n",
    "ℓcenters_ϕ = (ℓedges_ϕ[2:end] + ℓedges_ϕ[1:end-1])/2 \n",
    "ℓcenters_T = (ℓedges_T[2:end] + ℓedges_T[1:end-1])/2 \n"
   ]
  },
  {
   "cell_type": "code",
   "execution_count": 8,
   "id": "a929e8cd-2cb4-429d-b613-db560bd4aacd",
   "metadata": {},
   "outputs": [],
   "source": [
    "@unpack ds,proj = load_sim(;\n",
    "    # basic configuration\n",
    "    θpix, Nside, pol, T, storage,\n",
    "    # noise parameters, or set Cℓn or even Cn directly\n",
    "    μKarcminT=3.5, ℓknee=1200, αknee=3,\n",
    "    # beam parameters\n",
    "    beamFWHM=0,\n",
    "    # mask parameters\n",
    "    pixel_mask_kwargs = (;edge_padding_deg = 0.5, edge_rounding_deg = 0.3, apodization_deg = 1, num_ptsrcs = 0),\n",
    "    bandpass_mask = MidPass(200, 3000; Δℓ=100),\n",
    "    # theory\n",
    "    Cℓ, \n",
    "\n",
    "    rng,\n",
    "    L = LenseFlow(10)\n",
    "    );\n"
   ]
  },
  {
   "cell_type": "code",
   "execution_count": 9,
   "id": "1d3a9fe9-b063-4e90-8711-79eb3d3cab24",
   "metadata": {},
   "outputs": [
    {
     "ename": "LoadError",
     "evalue": "syntax: incomplete: premature end of input",
     "output_type": "error",
     "traceback": [
      "syntax: incomplete: premature end of input",
      "",
      "Stacktrace:",
      " [1] top-level scope",
      "   @ In[9]:19"
     ]
    }
   ],
   "source": [
    "Nϕ=ds.Nϕ # QE noise est : Nϕ=quadratic_estimate(ds).Nϕ / Nϕ_fac\n",
    "nbins_ϕ = length(ℓedges_ϕ)-1\n",
    "Cϕ=Cℓ_to_Cov(:I, proj,(Cℓ.total.ϕϕ, ℓedges_ϕ, :Aϕ))\n",
    "G₀ = sqrt(I + Nϕ * pinv(Cϕ()))\n",
    "Aϕ₀= ones(nbins_ϕ)\n",
    "G = ParamDependentOp((;Aϕ=Aϕ₀, _...)->(pinv(G₀) * sqrt(I + 2 * Nϕ * pinv(Cϕ(Aϕ=Aϕ)))))\n",
    "\n",
    "\n",
    "Cf=Cℓ_to_Cov(:I, proj,(Cℓ.unlensed_scalar.TT, ℓedges_T, :AT))\n",
    "########################## Simulate data\n",
    "\n",
    "######## Include Cf̃ in dataset\n",
    "Cf̃  = Cℓ_to_Cov(:I, proj,Cℓ.total.TT)\n",
    "\n",
    "######\n",
    "σ²κ = 1e-8\n",
    "ds = BaseDataSet(;Cf, Cf̃, Cϕ,  Cn=ds.Cn, Cn̂=ds.Cn̂, M=ds.M, M̂=ds.M̂, B=ds.B, B̂=ds.B̂, Nϕ=ds.Nϕ, L=ds.L, D=ds.D, G, σ²κ)\n",
    "ds.d = simulate(rng,ds).d;\n",
    "#tru_fields="
   ]
  },
  {
   "cell_type": "markdown",
   "id": "8d09b1dd-89d4-4186-a5e4-c88d1ae0f770",
   "metadata": {},
   "source": [
    "## Define Muse problem"
   ]
  },
  {
   "cell_type": "code",
   "execution_count": 13,
   "id": "000bfe2a-8bd8-4605-b95f-939d91b8f783",
   "metadata": {},
   "outputs": [
    {
     "data": {
      "text/plain": [
       "(nsteps = 50, progress = true, aggressive_gc = true, history_keys = :logpdf, conjgrad_kwargs = (progress = false, tol = 0.1, nsteps = 1500), prior_deprojection_factor = 0)"
      ]
     },
     "execution_count": 13,
     "metadata": {},
     "output_type": "execute_result"
    }
   ],
   "source": [
    "θ₀ = ComponentVector(;Aϕ=ones(nbins_ϕ), AT=ones(nbins_T))\n",
    "MAP_joint_kwargs=(;\n",
    "    nsteps=50, \n",
    "    progress=true, \n",
    "    aggressive_gc=true, \n",
    "    history_keys=(:logpdf), \n",
    "    conjgrad_kwargs=(progress=false, tol=1e-1, nsteps=1500),\n",
    "    prior_deprojection_factor=0)"
   ]
  },
  {
   "cell_type": "code",
   "execution_count": 14,
   "id": "09368a3d-801c-4116-b018-447032850a87",
   "metadata": {},
   "outputs": [
    {
     "data": {
      "text/plain": [
       "(AbstractDifferentiation.ForwardDiffBackend{Nothing}(), AbstractDifferentiation.ReverseRuleConfigBackend{Zygote.ZygoteRuleConfig{Zygote.Context{false}}}(Zygote.ZygoteRuleConfig{Zygote.Context{false}}(Zygote.Context{false}(nothing))))"
      ]
     },
     "execution_count": 14,
     "metadata": {},
     "output_type": "execute_result"
    }
   ],
   "source": [
    "prob = CMBLensingMuseProblem(ds; MAP_joint_kwargs,\n",
    "                                autodiff=AD.HigherOrderBackend((AD.ForwardDiffBackend(), AD.ZygoteBackend()))\n",
    "                                )\n",
    "∇z_logLike_atol = 1e-2\n",
    "implicit_diff_cg_kwargs = (maxiter=100, Pl=I)\n",
    "gc_func = cuda_gc()\n",
    "𝟘 = zero(θ₀) * zero(θ₀)' # if θ::ComponentArray, helps keep component labels \n",
    "\n",
    "z₀ = zero(LenseBasis(FieldTuple(;f=ds.d, ϕ=ds.d)))\n",
    "T = eltype(z₀)\n",
    "\n",
    "ad_fwd, ad_rev = AD.second_lowest(prob.autodiff), AD.lowest(prob.autodiff)"
   ]
  },
  {
   "cell_type": "markdown",
   "id": "a5124f80-5f9f-4a59-af61-3ae81cda5c36",
   "metadata": {},
   "source": [
    "## Load $\\hat{z}$"
   ]
  },
  {
   "cell_type": "code",
   "execution_count": 15,
   "id": "cf647716-8532-4d27-96b2-6c97424821c1",
   "metadata": {},
   "outputs": [],
   "source": [
    "x=ds.d\n",
    "z_start = z₀\n",
    "f = gpu(load_object(\"fJ_AD_test_SSP1f-7.jld2\"))\n",
    "ϕ = gpu(load_object(\"ϕJ_AD_test_SSP1f-7.jld2\"))\n",
    "ẑ = LenseBasis(FieldTuple(;f, ϕ));"
   ]
  },
  {
   "cell_type": "markdown",
   "id": "2d3b320a-636b-4abe-8b88-2df5382102e4",
   "metadata": {},
   "source": [
    "## AutoDiff parts"
   ]
  },
  {
   "cell_type": "markdown",
   "id": "a1dc60bb-7004-49d1-be35-217e42b02f27",
   "metadata": {},
   "source": [
    "### H1"
   ]
  },
  {
   "cell_type": "code",
   "execution_count": 16,
   "id": "6467c13c-b257-4375-9569-45d7ab090de5",
   "metadata": {},
   "outputs": [
    {
     "data": {
      "text/plain": [
       "68×68 \u001b[0mComponentMatrix{Float64} with axes Axis(Aϕ = 1:12, AT = 13:68) × Axis(Aϕ = 1:12, AT = 13:68)\n",
       " 0.0  0.0  0.0  0.0  0.0  0.0  0.0  0.0  …  0.0  0.0  0.0  0.0  0.0  0.0  0.0\n",
       " 0.0  0.0  0.0  0.0  0.0  0.0  0.0  0.0     0.0  0.0  0.0  0.0  0.0  0.0  0.0\n",
       " 0.0  0.0  0.0  0.0  0.0  0.0  0.0  0.0     0.0  0.0  0.0  0.0  0.0  0.0  0.0\n",
       " 0.0  0.0  0.0  0.0  0.0  0.0  0.0  0.0     0.0  0.0  0.0  0.0  0.0  0.0  0.0\n",
       " 0.0  0.0  0.0  0.0  0.0  0.0  0.0  0.0     0.0  0.0  0.0  0.0  0.0  0.0  0.0\n",
       " 0.0  0.0  0.0  0.0  0.0  0.0  0.0  0.0  …  0.0  0.0  0.0  0.0  0.0  0.0  0.0\n",
       " 0.0  0.0  0.0  0.0  0.0  0.0  0.0  0.0     0.0  0.0  0.0  0.0  0.0  0.0  0.0\n",
       " 0.0  0.0  0.0  0.0  0.0  0.0  0.0  0.0     0.0  0.0  0.0  0.0  0.0  0.0  0.0\n",
       " 0.0  0.0  0.0  0.0  0.0  0.0  0.0  0.0     0.0  0.0  0.0  0.0  0.0  0.0  0.0\n",
       " 0.0  0.0  0.0  0.0  0.0  0.0  0.0  0.0     0.0  0.0  0.0  0.0  0.0  0.0  0.0\n",
       " 0.0  0.0  0.0  0.0  0.0  0.0  0.0  0.0  …  0.0  0.0  0.0  0.0  0.0  0.0  0.0\n",
       " 0.0  0.0  0.0  0.0  0.0  0.0  0.0  0.0     0.0  0.0  0.0  0.0  0.0  0.0  0.0\n",
       " 0.0  0.0  0.0  0.0  0.0  0.0  0.0  0.0     0.0  0.0  0.0  0.0  0.0  0.0  0.0\n",
       " ⋮                        ⋮              ⋱                      ⋮         \n",
       " 0.0  0.0  0.0  0.0  0.0  0.0  0.0  0.0     0.0  0.0  0.0  0.0  0.0  0.0  0.0\n",
       " 0.0  0.0  0.0  0.0  0.0  0.0  0.0  0.0     0.0  0.0  0.0  0.0  0.0  0.0  0.0\n",
       " 0.0  0.0  0.0  0.0  0.0  0.0  0.0  0.0     0.0  0.0  0.0  0.0  0.0  0.0  0.0\n",
       " 0.0  0.0  0.0  0.0  0.0  0.0  0.0  0.0     0.0  0.0  0.0  0.0  0.0  0.0  0.0\n",
       " 0.0  0.0  0.0  0.0  0.0  0.0  0.0  0.0  …  0.0  0.0  0.0  0.0  0.0  0.0  0.0\n",
       " 0.0  0.0  0.0  0.0  0.0  0.0  0.0  0.0     0.0  0.0  0.0  0.0  0.0  0.0  0.0\n",
       " 0.0  0.0  0.0  0.0  0.0  0.0  0.0  0.0     0.0  0.0  0.0  0.0  0.0  0.0  0.0\n",
       " 0.0  0.0  0.0  0.0  0.0  0.0  0.0  0.0     0.0  0.0  0.0  0.0  0.0  0.0  0.0\n",
       " 0.0  0.0  0.0  0.0  0.0  0.0  0.0  0.0     0.0  0.0  0.0  0.0  0.0  0.0  0.0\n",
       " 0.0  0.0  0.0  0.0  0.0  0.0  0.0  0.0  …  0.0  0.0  0.0  0.0  0.0  0.0  0.0\n",
       " 0.0  0.0  0.0  0.0  0.0  0.0  0.0  0.0     0.0  0.0  0.0  0.0  0.0  0.0  0.0\n",
       " 0.0  0.0  0.0  0.0  0.0  0.0  0.0  0.0     0.0  0.0  0.0  0.0  0.0  0.0  0.0"
      ]
     },
     "execution_count": 16,
     "metadata": {},
     "output_type": "execute_result"
    }
   ],
   "source": [
    "xs=[]\n",
    "θs=[]\n",
    "θs_prime=[]\n",
    "## non-implicit-diff term\n",
    "H1 =copyto!(similar(𝟘), permutedims(first(AD.jacobian(θ₀, backend=ad_fwd) do θ\n",
    "    local x, = sample_x_z(prob, copy(rng), θ)\n",
    "    push!(xs,x)\n",
    "    push!(θs,θ)\n",
    "    first(AD.gradient(θ₀, backend=ad_rev) do θ′ \n",
    "        #@show θ′\n",
    "        logLike(prob, x, ẑ, θ′, MuseInference.UnTransformedθ())\n",
    "    end)\n",
    "end)))"
   ]
  },
  {
   "cell_type": "markdown",
   "id": "c71706dc-402d-4e75-970f-f62b58a9ac6d",
   "metadata": {},
   "source": [
    "### H2 - part 1"
   ]
  },
  {
   "cell_type": "code",
   "execution_count": 17,
   "id": "9bbbe8bb-f8fc-4ca4-aa4a-4508c847ab26",
   "metadata": {},
   "outputs": [
    {
     "data": {
      "text/plain": [
       "131072×68 CuArray{Float64, 2, CUDA.Mem.DeviceBuffer}:\n",
       "  -0.0    -0.0      -0.0       -0.0   …  -0.0069382     0.00670585\n",
       "  -0.0    -0.0      -0.0       -0.0       0.000934767  -0.00167809\n",
       "  -0.0    -0.0      -0.0       -0.0       0.00666087   -0.00300012\n",
       "  -0.0    -0.0      -0.0       -0.0       0.00526456   -0.00386906\n",
       "  -0.0    -0.0      -0.0       -0.0       0.00284166   -0.00710451\n",
       "  -0.0    -0.0      -0.0       -0.0   …   0.00224179   -0.000457181\n",
       "  -0.0    -0.0      -0.0       -0.0       6.49335e-6    0.00815996\n",
       "  -0.0    -0.0      -0.0       -0.0      -0.00295353    0.0045387\n",
       "  -0.0    -0.0      -0.0       -0.0      -0.000265485  -0.00210246\n",
       "  -0.0    -0.0      -0.0       -0.0       0.00538408   -0.00279628\n",
       "  -0.0    -0.0      -0.0       -0.0   …   0.00402738   -0.00308779\n",
       "  -0.0    -0.0      -0.0       -0.0      -0.00214236   -0.00160487\n",
       "  -0.0    -0.0      -0.0       -0.0      -0.00488521    0.00529352\n",
       "   ⋮                                  ⋱                \n",
       " 382.521  25.4205  255.349  -1513.04  …  -0.0          -0.0\n",
       " 397.503  28.9631  281.007  -1803.45     -0.0          -0.0\n",
       " 411.578  32.66    311.716  -2063.46     -0.0          -0.0\n",
       " 424.688  36.4955  345.82   -2287.44     -0.0          -0.0\n",
       " 436.781  40.4591  381.646  -2470.65     -0.0          -0.0\n",
       " 447.81   44.5448  417.549  -2609.37  …  -0.0          -0.0\n",
       " 457.73   48.7515  451.944  -2700.99     -0.0          -0.0\n",
       " 466.505  53.0828  483.352  -2744.11     -0.0          -0.0\n",
       " 474.1    57.5465  510.431  -2738.54     -0.0          -0.0\n",
       " 480.488  62.1547  532.01   -2685.27     -0.0          -0.0\n",
       " 485.647  66.9234  547.112  -2586.46  …  -0.0          -0.0\n",
       " 489.559  71.8717  554.985  -2445.3      -0.0          -0.0"
      ]
     },
     "execution_count": 17,
     "metadata": {},
     "output_type": "execute_result"
    }
   ],
   "source": [
    "## term involving dzMAP/dθ via implicit-diff (w/ conjugate-gradient linear solve)\n",
    "dFdθ = first(AD.jacobian(θ₀, backend=ad_fwd) do θ\n",
    "       # @show θ\n",
    "    first(AD.gradient(ẑ, backend=ad_rev) do z\n",
    "        logLike(prob, x, z, θ, MuseInference.UnTransformedθ())\n",
    "    end)\n",
    "end)"
   ]
  },
  {
   "cell_type": "raw",
   "id": "e4e47b80-91a2-4ceb-a39e-31c9e502c066",
   "metadata": {},
   "source": [
    "heatmap(cpu(dFdθ),c=:balance)"
   ]
  },
  {
   "cell_type": "markdown",
   "id": "cd45833f-67df-4bf0-8d99-6e9baea547b5",
   "metadata": {},
   "source": [
    "### H2 - part 2"
   ]
  },
  {
   "cell_type": "code",
   "execution_count": 18,
   "id": "b1962a3b-04a4-408d-a11e-f22ea5eded25",
   "metadata": {},
   "outputs": [
    {
     "data": {
      "text/plain": [
       "131072×68 CuArray{Float64, 2, CUDA.Mem.DeviceBuffer}:\n",
       " NaN  NaN  NaN  NaN  NaN  NaN  NaN  NaN  …  NaN  NaN  NaN  NaN  NaN  NaN  NaN\n",
       " NaN  NaN  NaN  NaN  NaN  NaN  NaN  NaN     NaN  NaN  NaN  NaN  NaN  NaN  NaN\n",
       " NaN  NaN  NaN  NaN  NaN  NaN  NaN  NaN     NaN  NaN  NaN  NaN  NaN  NaN  NaN\n",
       " NaN  NaN  NaN  NaN  NaN  NaN  NaN  NaN     NaN  NaN  NaN  NaN  NaN  NaN  NaN\n",
       " NaN  NaN  NaN  NaN  NaN  NaN  NaN  NaN     NaN  NaN  NaN  NaN  NaN  NaN  NaN\n",
       " NaN  NaN  NaN  NaN  NaN  NaN  NaN  NaN  …  NaN  NaN  NaN  NaN  NaN  NaN  NaN\n",
       " NaN  NaN  NaN  NaN  NaN  NaN  NaN  NaN     NaN  NaN  NaN  NaN  NaN  NaN  NaN\n",
       " NaN  NaN  NaN  NaN  NaN  NaN  NaN  NaN     NaN  NaN  NaN  NaN  NaN  NaN  NaN\n",
       " NaN  NaN  NaN  NaN  NaN  NaN  NaN  NaN     NaN  NaN  NaN  NaN  NaN  NaN  NaN\n",
       " NaN  NaN  NaN  NaN  NaN  NaN  NaN  NaN     NaN  NaN  NaN  NaN  NaN  NaN  NaN\n",
       " NaN  NaN  NaN  NaN  NaN  NaN  NaN  NaN  …  NaN  NaN  NaN  NaN  NaN  NaN  NaN\n",
       " NaN  NaN  NaN  NaN  NaN  NaN  NaN  NaN     NaN  NaN  NaN  NaN  NaN  NaN  NaN\n",
       " NaN  NaN  NaN  NaN  NaN  NaN  NaN  NaN     NaN  NaN  NaN  NaN  NaN  NaN  NaN\n",
       "   ⋮                        ⋮            ⋱                        ⋮       \n",
       " NaN  NaN  NaN  NaN  NaN  NaN  NaN  NaN  …  NaN  NaN  NaN  NaN  NaN  NaN  NaN\n",
       " NaN  NaN  NaN  NaN  NaN  NaN  NaN  NaN     NaN  NaN  NaN  NaN  NaN  NaN  NaN\n",
       " NaN  NaN  NaN  NaN  NaN  NaN  NaN  NaN     NaN  NaN  NaN  NaN  NaN  NaN  NaN\n",
       " NaN  NaN  NaN  NaN  NaN  NaN  NaN  NaN     NaN  NaN  NaN  NaN  NaN  NaN  NaN\n",
       " NaN  NaN  NaN  NaN  NaN  NaN  NaN  NaN     NaN  NaN  NaN  NaN  NaN  NaN  NaN\n",
       " NaN  NaN  NaN  NaN  NaN  NaN  NaN  NaN  …  NaN  NaN  NaN  NaN  NaN  NaN  NaN\n",
       " NaN  NaN  NaN  NaN  NaN  NaN  NaN  NaN     NaN  NaN  NaN  NaN  NaN  NaN  NaN\n",
       " NaN  NaN  NaN  NaN  NaN  NaN  NaN  NaN     NaN  NaN  NaN  NaN  NaN  NaN  NaN\n",
       " NaN  NaN  NaN  NaN  NaN  NaN  NaN  NaN     NaN  NaN  NaN  NaN  NaN  NaN  NaN\n",
       " NaN  NaN  NaN  NaN  NaN  NaN  NaN  NaN     NaN  NaN  NaN  NaN  NaN  NaN  NaN\n",
       " NaN  NaN  NaN  NaN  NaN  NaN  NaN  NaN  …  NaN  NaN  NaN  NaN  NaN  NaN  NaN\n",
       " NaN  NaN  NaN  NaN  NaN  NaN  NaN  NaN     NaN  NaN  NaN  NaN  NaN  NaN  NaN"
      ]
     },
     "execution_count": 18,
     "metadata": {},
     "output_type": "execute_result"
    }
   ],
   "source": [
    "dFdθ1 = first(AD.jacobian(θ₀, backend=ad_fwd) do θ\n",
    "    local x, = sample_x_z(prob, copy(rng), θ)\n",
    "    first(AD.gradient(ẑ, backend=ad_rev) do z\n",
    "        logLike(prob, x, z, θ₀, MuseInference.UnTransformedθ())\n",
    "    end)\n",
    "end)"
   ]
  },
  {
   "cell_type": "markdown",
   "id": "fc6a24da-38f4-4b0f-8d62-6d1a976a38c8",
   "metadata": {},
   "source": [
    "### H2 \n",
    "Use parts 1 and 2, and use conjgrad to solve action of inverse hessian"
   ]
  },
  {
   "cell_type": "code",
   "execution_count": 56,
   "id": "c806a6e5-5152-4b2b-92f9-0b006eeaf0b3",
   "metadata": {},
   "outputs": [],
   "source": [
    "\n",
    "# A is the operation of the Hessian of logLike w.r.t. z\n",
    "A = MuseInference.LinearMap{T}(length(z₀), isposdef=true, issymmetric=true, ishermitian=true) do w\n",
    "    first(AD.jacobian(0, backend=ad_fwd) do α\n",
    "        first(AD.gradient(ẑ + α * w, backend=ad_rev) do z\n",
    "            logLike(prob, x, z, θ₀, UnTransformedθ())\n",
    "        end)\n",
    "    end)\n",
    "end\n",
    "\n",
    "cuda_gc()\n"
   ]
  },
  {
   "cell_type": "code",
   "execution_count": null,
   "id": "ee598ae6-caf8-410f-8332-968c638f8550",
   "metadata": {},
   "outputs": [],
   "source": [
    "A⁻¹_dFdθ1 = pmap(pool, eachcol(dFdθ1)) do w \n",
    "    A⁻¹_w = cg(A, w; implicit_diff_cg_kwargs..., log=true)\n",
    "    cuda_gc()\n",
    "    A⁻¹_w\n",
    "end\n"
   ]
  },
  {
   "cell_type": "markdown",
   "id": "5ed0bfde-6ff1-4342-aa4b-d9e4d836d1da",
   "metadata": {},
   "source": [
    "## H=H1+H2"
   ]
  },
  {
   "cell_type": "code",
   "execution_count": null,
   "id": "c8839d61-3679-4caa-84ad-099ce9e034b0",
   "metadata": {},
   "outputs": [],
   "source": [
    "cg_hists = map(last, A⁻¹_dFdθ1)\n",
    "H2 = copyto!(similar(𝟘), -(dFdθ' * mapreduce(first, hcat, A⁻¹_dFdθ1)))\n",
    "\n",
    "H = H1 + H2"
   ]
  }
 ],
 "metadata": {
  "kernelspec": {
   "display_name": "Julia 1.8.5",
   "language": "julia",
   "name": "julia-1.8"
  },
  "language_info": {
   "file_extension": ".jl",
   "mimetype": "application/julia",
   "name": "julia",
   "version": "1.8.5"
  }
 },
 "nbformat": 4,
 "nbformat_minor": 5
}
